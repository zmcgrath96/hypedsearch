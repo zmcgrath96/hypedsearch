{
 "cells": [
  {
   "cell_type": "markdown",
   "metadata": {},
   "source": [
    "# Comparison of results\n",
    "we need to take in the results from both (1) hypedsearch (or whatever its called) and (2) Neo-Fusion to see how they compare. Generated data is saved in the `experiment.json` files, so we can load that in to know the true value and compare that to what each get. The steps we should take are the following:\n",
    "1. Load the `experiment.json` file\n",
    "2. Load the `json` output from hypedsearch\n",
    "3. Load the results of Neo-Fusion\n",
    "4. See how well hypedsearch did at identifying both hybrid and non hybrid sequences\n",
    "5. See how well Neo-Fusion did at identifying both hybrid and non hybrid sequences\n",
    "6. Compare overlaps and non overlapping results\n",
    "\n",
    "__NOTE__: all the data we are testing here are (1) IDEAL theoretical spectra, (2) the hybrids are only cis-spliced as Neo-Fusion cannot search for trans-spliced peptides"
   ]
  },
  {
   "cell_type": "markdown",
   "metadata": {},
   "source": [
    "### Constants and imports"
   ]
  },
  {
   "cell_type": "code",
   "execution_count": 1,
   "metadata": {},
   "outputs": [],
   "source": [
    "import json\n",
    "\n",
    "expjsondir = '../../sandbox/data/testing_output/cis_spliced/'\n",
    "experiment_json_file = expjsondir + 'experiment_info.json'\n",
    "\n",
    "hypedsearch_output = '/Users/zacharymcgrath/Desktop/Experiment output/10062020/'\n"
   ]
  },
  {
   "cell_type": "markdown",
   "metadata": {},
   "source": [
    "## 1. Load the `experiment.json` file"
   ]
  },
  {
   "cell_type": "code",
   "execution_count": 2,
   "metadata": {},
   "outputs": [],
   "source": [
    "with open(experiment_json_file, 'r') as o:\n",
    "    exp = json.load(o)\n",
    "    "
   ]
  },
  {
   "cell_type": "markdown",
   "metadata": {},
   "source": [
    "## 2. Load `json` from hypedsearch"
   ]
  },
  {
   "cell_type": "code",
   "execution_count": 3,
   "metadata": {},
   "outputs": [],
   "source": [
    "summary = json.load(open(hypedsearch_output + 'summary.json', 'r'))\n"
   ]
  },
  {
   "cell_type": "markdown",
   "metadata": {},
   "source": [
    "## 3. Load Neo-Fusion results"
   ]
  },
  {
   "cell_type": "code",
   "execution_count": null,
   "metadata": {},
   "outputs": [],
   "source": []
  },
  {
   "cell_type": "markdown",
   "metadata": {},
   "source": [
    "## 4. Check the correctness of hypedsearch"
   ]
  },
  {
   "cell_type": "code",
   "execution_count": 4,
   "metadata": {},
   "outputs": [],
   "source": [
    "n = 5\n",
    "non_hyb_stats = {i: {\n",
    "        'correct': 0,\n",
    "        'correct_parent': 0,\n",
    "        'correct_sequence': 0,\n",
    "    } for i in range(n)}\n",
    "non_hyb_stats['count'] = 0\n",
    "\n",
    "hyb_stats ={i: {\n",
    "        'left_correct_parent': 0,\n",
    "        'right_correct_parent': 0, \n",
    "        'correct_sequence': 0,\n",
    "        'correct': 0\n",
    "    } for i in range(n)}\n",
    "hyb_stats['count'] = 0\n",
    "\n",
    "wrong_hybrid_alignemnts = []\n",
    "wrong_nonhybrid_alignments = []"
   ]
  },
  {
   "cell_type": "code",
   "execution_count": 5,
   "metadata": {},
   "outputs": [],
   "source": [
    "def hyb_calc(result, real_pep):\n",
    "    hyb_stats['count'] += 1\n",
    "    is_correct = False\n",
    "    for i in range(min(n, len(result))):\n",
    "        res = result[i]\n",
    "        result_hybrid = 'hybrid_sequence' in res\n",
    "        if not result_hybrid: \n",
    "            continue\n",
    "        \n",
    "        left_corrparent = real_pep['left_parent_name'] in res['left_proteins']\n",
    "        right_corrparent = real_pep['right_parent_name'] in res['right_proteins']\n",
    "        corr_seq = real_pep['sequence'] == res['sequence']\n",
    "        \n",
    "        hyb_stats[i]['left_correct_parent'] += 1 if left_corrparent else 0\n",
    "        hyb_stats[i]['right_correct_parent'] += 1 if right_corrparent else 0\n",
    "        hyb_stats[i]['correct_sequence'] += 1 if corr_seq else 0\n",
    "        hyb_stats[i]['correct'] += 1 if left_corrparent and right_corrparent and corr_seq else 0\n",
    "        \n",
    "        is_correct = corr_seq\n",
    "        \n",
    "        if is_correct:\n",
    "            break\n",
    "            \n",
    "    if not is_correct:\n",
    "        print('appending {} to bad for real pep {}'.format([x['sequence'] for x in result], real_pep['sequence']))\n",
    "        wrong_hybrid_alignemnts.append((result, real_pep))"
   ]
  },
  {
   "cell_type": "code",
   "execution_count": 6,
   "metadata": {},
   "outputs": [],
   "source": [
    "def non_hyb_calc(result, real_pep):\n",
    "    non_hyb_stats['count'] += 1\n",
    "    iterrange = min(n, len(result))\n",
    "    for i in range(iterrange):\n",
    "        if 'proteins' not in result[i] or real_pep['parent_name'] not in result[i]['proteins']:\n",
    "            continue\n",
    "\n",
    "        corrseq = result[i]['sequence'] == real_pep['sequence']\n",
    "        corrprotein = real_pep['parent_name'] in result[i]['proteins']\n",
    "        \n",
    "        non_hyb_stats[i]['correct_parent'] += 1 if corrprotein else 0 \n",
    "        non_hyb_stats[i]['correct_sequence'] += 1 if corrseq else 0\n",
    "        non_hyb_stats[i]['correct'] += 1 if (corrseq and corrprotein) else 0\n",
    "        \n",
    "        if i != 0 and not (corrprotein and corrseq):\n",
    "            wrong_nonhybrid_alignments.append((result, real_pep))\n",
    "        return\n"
   ]
  },
  {
   "cell_type": "code",
   "execution_count": 7,
   "metadata": {
    "scrolled": true
   },
   "outputs": [
    {
     "name": "stdout",
     "output_type": "stream",
     "text": [
      "appending ['TGSFLVDLEGKPAKSSKQ', 'TGSFLVDLEKPAKSSKQ', 'TGSFLKPAKSSKQ'] to bad for real pep TGSFLVDLESGKPAKSSKQ\n",
      "appending ['YSKIVFVGGI', 'YSKIVSGGPL', 'YSKIVSPGGI'] to bad for real pep YSKIVPKHL\n",
      "appending ['VDLESGKAP', 'VSKGSGKAP', 'LDVESGKAP'] to bad for real pep VDLESGKPA\n",
      "appending ['STFTLSAKSEINTMVS', 'ELGHNISAKSEINTMVS', 'ELGHNLSAKSEINTMVS'] to bad for real pep GKNTKSFCLDTEYISAKSEINTMVS\n",
      "appending ['GSVMEMREKYSKIVEDESR', 'GSVMEMREKYSLF', 'GSVMEMREKYSKIVEGGQN'] to bad for real pep GSVMEMREKYSKIVPKHLLVMKGAPER\n",
      "appending ['GKNTKSFCLDTEAKSEINTMVS', 'GKNTKSFCLDTEISAKSEINTMVS', 'GKNTKSFCLDTESAKSEINTMVS'] to bad for real pep GKNTKSFCLDTEYISAKSEINTMVS\n"
     ]
    }
   ],
   "source": [
    "exp = json.load(open(experiment_json_file, 'r'))\n",
    "\n",
    "scan_no_keyed_results = {x['spectrum']['scan_number']: x for _, x in summary.items()}\n",
    "sorted_keys = [int(c) for c in exp['peptides'].keys()]\n",
    "\n",
    "for k in sorted_keys:\n",
    "    pep = exp['peptides'][str(k)]\n",
    "    if k not in scan_no_keyed_results:\n",
    "        continue\n",
    "    if 'hybrid' in pep['peptide_name'].lower():\n",
    "        hyb_calc(scan_no_keyed_results[k]['alignments'], pep)\n",
    "    else:\n",
    "        non_hyb_calc(scan_no_keyed_results[k]['alignments'], pep)"
   ]
  },
  {
   "cell_type": "code",
   "execution_count": 8,
   "metadata": {},
   "outputs": [
    {
     "name": "stdout",
     "output_type": "stream",
     "text": [
      "NON HYBRID STATS\n",
      "------------------------------------------------------------\n",
      "number of peptides.......................................100\n",
      "Top alignment\n",
      "\n",
      "correct alignment.........................................95\n",
      "%.........................................................95\n",
      "correct protein...........................................96\n",
      "%.........................................................96\n",
      "correct sequence..........................................95\n",
      "%.........................................................95\n",
      "\n",
      "2 to 5 alignment\n",
      "\n",
      "number of peptides.......................................100\n",
      "correct alignment..........................................0\n",
      "%..........................................................0\n",
      "correct protein............................................0\n",
      "%..........................................................0\n",
      "correct sequence...........................................0\n",
      "%..........................................................0\n",
      "\n",
      "============================================================\n",
      "\n",
      "HYBRID STATS\n",
      "------------------------------------------------------------\n",
      "number of peptides........................................25\n",
      "Top alignment\n",
      "\n",
      "correct alignment.........................................19\n",
      "%.........................................................76\n",
      "correct sequence..........................................19\n",
      "%.........................................................76\n",
      "correct left parent.......................................25\n",
      "%........................................................100\n",
      "correct right parent......................................22\n",
      "%.........................................................88\n",
      "\n",
      "2 to 5 alignment\n",
      "\n",
      "correct alignment..........................................0\n",
      "%..........................................................0\n",
      "correct sequence...........................................0\n",
      "%..........................................................0\n",
      "correct left parent........................................8\n",
      "%.........................................................32\n",
      "correct right parent.......................................6\n",
      "%.........................................................24\n",
      "\n"
     ]
    }
   ],
   "source": [
    "percent = lambda a, b: (a* 100 // b)\n",
    "\n",
    "printstat = lambda name, stat: '{}{}\\n'.format(name, str(stat).rjust(60-len(name), '.'))\n",
    "\n",
    "secbreak = ''.join(['=' for _ in range(60)])\n",
    "headbreak = ''.join(['-' for _ in range(60)])\n",
    "nhcount = non_hyb_stats['count']\n",
    "topalign = non_hyb_stats[0]\n",
    "otheralign = {}\n",
    "for i in range(1, n):\n",
    "    for stat in topalign.keys():\n",
    "        if stat not in otheralign:\n",
    "            otheralign[stat] = 0\n",
    "        otheralign[stat] += non_hyb_stats[i][stat]\n",
    "\n",
    "######################## NON HYBRID PRETTY PRINTING ############################\n",
    "\n",
    "nonhybsum = 'NON HYBRID STATS\\n' + headbreak + '\\n'\n",
    "nonhybsum += printstat('number of peptides', nhcount) \n",
    "nonhybsum += 'Top alignment\\n\\n'\n",
    "nonhybsum += printstat('correct alignment', topalign['correct'])\n",
    "nonhybsum += printstat('%', percent(topalign['correct'], nhcount)) \n",
    "nonhybsum += printstat('correct protein', topalign['correct_parent']) \n",
    "nonhybsum += printstat('%', percent(topalign['correct_parent'], nhcount))\n",
    "nonhybsum += printstat('correct sequence', topalign['correct_sequence'])\n",
    "nonhybsum += printstat('%', percent(topalign['correct_sequence'], nhcount))\n",
    "\n",
    "nonhybsum += '\\n2 to {} alignment\\n\\n'.format(n)\n",
    "nonhybsum += printstat('number of peptides', nhcount) \n",
    "nonhybsum += printstat('correct alignment', otheralign['correct'])\n",
    "nonhybsum += printstat('%', percent(otheralign['correct'], nhcount)) \n",
    "nonhybsum += printstat('correct protein', otheralign['correct_parent']) \n",
    "nonhybsum += printstat('%', percent(otheralign['correct_parent'], nhcount))\n",
    "nonhybsum += printstat('correct sequence', otheralign['correct_sequence'])\n",
    "nonhybsum += printstat('%', percent(otheralign['correct_sequence'], nhcount))\n",
    "nonhybsum += '\\n' + secbreak + '\\n\\n'\n",
    "\n",
    "############################ HYBRID PRETYY PRINTING ##############################\n",
    "hcount = hyb_stats['count']\n",
    "topalignh = hyb_stats[0]\n",
    "otheralignh = {}\n",
    "for i in range(1, n):\n",
    "    for stat in topalignh.keys():\n",
    "        if stat not in otheralignh:\n",
    "            otheralignh[stat] = 0\n",
    "        otheralignh[stat] += hyb_stats[i][stat]\n",
    "\n",
    "hybsum = 'HYBRID STATS\\n'+ headbreak + '\\n'\n",
    "hybsum += printstat('number of peptides', hcount)\n",
    "hybsum += 'Top alignment\\n\\n'\n",
    "hybsum += printstat('correct alignment', topalignh['correct'])\n",
    "hybsum += printstat('%', percent(topalignh['correct'], hcount))\n",
    "hybsum += printstat('correct sequence', topalignh['correct_sequence'])\n",
    "hybsum += printstat('%', percent(topalignh['correct_sequence'], hcount))\n",
    "hybsum += printstat('correct left parent', topalignh['left_correct_parent'])\n",
    "hybsum += printstat('%', percent(topalignh['left_correct_parent'], hcount))\n",
    "hybsum += printstat('correct right parent', topalignh['right_correct_parent'])\n",
    "hybsum += printstat('%', percent(topalignh['right_correct_parent'], hcount))\n",
    "\n",
    "hybsum += '\\n2 to {} alignment\\n\\n'.format(n)\n",
    "hybsum += printstat('correct alignment', otheralignh['correct'])\n",
    "hybsum += printstat('%', percent(otheralignh['correct'], hcount))\n",
    "hybsum += printstat('correct sequence', otheralignh['correct_sequence'])\n",
    "hybsum += printstat('%', percent(otheralignh['correct_sequence'], hcount))\n",
    "hybsum += printstat('correct left parent', otheralignh['left_correct_parent'])\n",
    "hybsum += printstat('%', percent(otheralignh['left_correct_parent'], hcount))\n",
    "hybsum += printstat('correct right parent', otheralignh['right_correct_parent'])\n",
    "hybsum += printstat('%', percent(otheralignh['right_correct_parent'], hcount))\n",
    "\n",
    "print(nonhybsum + hybsum)"
   ]
  },
  {
   "cell_type": "code",
   "execution_count": 9,
   "metadata": {},
   "outputs": [
    {
     "name": "stdout",
     "output_type": "stream",
     "text": [
      "Attempted alignment for sequence: TGSFLVDLESGKPAKSSKQ\n",
      "TGSFLVDLEGKPAKSSKQ\tTGSFLVDLE-GKPAKSSKQ\n",
      "TGSFLVDLEKPAKSSKQ\tTGSFLVDLE-KPAKSSKQ\n",
      "TGSFLKPAKSSKQ\tTGSFL-KPAKSSKQ\n",
      "\n",
      "Attempted alignment for sequence: YSKIVPKHL\n",
      "YSKIVFVGGI\tYSKIV-FVGGI\n",
      "YSKIVSGGPL\tYSKIV-SGGPL\n",
      "YSKIVSPGGI\tYSKIV-SPGGI\n",
      "\n",
      "Attempted alignment for sequence: VDLESGKPA\n",
      "VDLESGKAP\tVDLE(S)GKAP\n",
      "VSKGSGKAP\tVSKG(S)GKAP\n",
      "LDVESGKAP\tLDVE(S)GKAP\n",
      "\n",
      "Attempted alignment for sequence: GKNTKSFCLDTEYISAKSEINTMVS\n",
      "STFTLSAKSEINTMVS\tSTFTL-SAKSEINTMVS\n",
      "ELGHNISAKSEINTMVS\tELGHN-ISAKSEINTMVS\n",
      "ELGHNLSAKSEINTMVS\tELGHNL-SAKSEINTMVS\n",
      "\n",
      "Attempted alignment for sequence: GSVMEMREKYSKIVPKHLLVMKGAPER\n",
      "GSVMEMREKYSKIVEDESR\tGSVMEMREKYSKIV-EDESR\n",
      "GSVMEMREKYSLF\tGSVMEMRE(K)YSLF\n",
      "GSVMEMREKYSKIVEGGQN\tGSVMEMREKYSKIV-EGGQN\n",
      "\n",
      "Attempted alignment for sequence: GKNTKSFCLDTEYISAKSEINTMVS\n",
      "GKNTKSFCLDTEAKSEINTMVS\tGKNTKSFCLDTE-AKSEINTMVS\n",
      "GKNTKSFCLDTEISAKSEINTMVS\tGKNTKSFCLDTE-ISAKSEINTMVS\n",
      "GKNTKSFCLDTESAKSEINTMVS\tGKNTKSFCLDTE-SAKSEINTMVS\n",
      "\n"
     ]
    }
   ],
   "source": [
    "for ba in wrong_hybrid_alignemnts:\n",
    "    print('Attempted alignment for sequence: {}'.format(ba[1]['sequence']))\n",
    "    \n",
    "    for a in ba[0]:\n",
    "        print('{}\\t{}'.format(a['sequence'], a['hybrid_sequence'] if 'hybrid_sequence' in a else ''))\n",
    "    \n",
    "    print('')"
   ]
  },
  {
   "cell_type": "code",
   "execution_count": null,
   "metadata": {},
   "outputs": [],
   "source": []
  }
 ],
 "metadata": {
  "kernelspec": {
   "display_name": "Python 3",
   "language": "python",
   "name": "python3"
  },
  "language_info": {
   "codemirror_mode": {
    "name": "ipython",
    "version": 3
   },
   "file_extension": ".py",
   "mimetype": "text/x-python",
   "name": "python",
   "nbconvert_exporter": "python",
   "pygments_lexer": "ipython3",
   "version": "3.9.2"
  }
 },
 "nbformat": 4,
 "nbformat_minor": 4
}
