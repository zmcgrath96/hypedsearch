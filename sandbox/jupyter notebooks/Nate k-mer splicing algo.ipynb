{
 "cells": [
  {
   "cell_type": "markdown",
   "id": "hollywood-telling",
   "metadata": {},
   "source": [
    "# Nate k-mer splicing algo\n",
    "\n",
    "This notebook is designed to test implementations of different algorithm ideas to test the accuracy and efficiency of different algorithm ideas."
   ]
  },
  {
   "cell_type": "markdown",
   "id": "technological-wallace",
   "metadata": {},
   "source": [
    "# Theoretical setup\n",
    "\n",
    "Let $S_1$, $S_2$ be sets of length k. Let G be the target set containing some subset of each set."
   ]
  },
  {
   "cell_type": "markdown",
   "id": "racial-border",
   "metadata": {},
   "source": [
    "# Notes\n",
    "\n",
    "* In reality, not all of $S_1$ and $S_2$ are known.\n",
    "* Need efficient way to compare many different sets\n",
    "* Need to determine some kind of tiebreaker\n",
    "* Precursor masses are usually known within 10 ppm"
   ]
  },
  {
   "cell_type": "markdown",
   "id": "clean-washer",
   "metadata": {},
   "source": [
    "# Comparison Algorithm"
   ]
  },
  {
   "cell_type": "code",
   "execution_count": 31,
   "id": "demonstrated-hours",
   "metadata": {},
   "outputs": [
    {
     "name": "stdout",
     "output_type": "stream",
     "text": [
      "4\n",
      "Wall time: 1e+03 µs\n"
     ]
    }
   ],
   "source": [
    "%%time\n",
    "k = 4 #k will always be known\n",
    "S_1 = [5,6,17,21] #defining sample parameters\n",
    "S_2 = [3,4,12,13]\n",
    "\n",
    "G = [5,6,12,13]\n",
    "G_val = 0 #Integer to hold what parts of G have been \"figured out\"\n",
    "\n",
    "score = 0 #start at 0\n",
    "\n",
    "for i in range(k):\n",
    "    if (S_1[i] == G[G_val]):\n",
    "        score = score + 1\n",
    "        G_val = G_val + 1\n",
    "        \n",
    "for j in range(k):\n",
    "    if (G_val < k and S_2[j] == G[G_val]):\n",
    "        score = score + 1\n",
    "        G_val = G_val + 1\n",
    "        \n",
    "print(score)"
   ]
  },
  {
   "cell_type": "markdown",
   "id": "constitutional-healthcare",
   "metadata": {},
   "source": [
    "# Realistic Algorithm\n",
    "\n",
    "The algorithm above is very simplified in a very abstract environment. Realistically, we would need to account for the bio aspects such as incomplete information."
   ]
  },
  {
   "cell_type": "code",
   "execution_count": 1,
   "id": "relative-suite",
   "metadata": {},
   "outputs": [],
   "source": [
    "import os\n",
    "import sys\n",
    "module_path = os.path.abspath(os.path.join('..'))\n",
    "if module_path not in sys.path:\n",
    "    sys.path.append(module_path)\n",
    "module_path = os.path.abspath(os.path.join('../..'))\n",
    "if module_path not in sys.path:\n",
    "    sys.path.append(module_path)\n",
    "    \n",
    "from src import gen_spectra\n",
    "from src import utils\n",
    "from src.scoring import scoring\n",
    "from src.objects import Spectrum"
   ]
  },
  {
   "cell_type": "code",
   "execution_count": 3,
   "id": "trying-residence",
   "metadata": {
    "scrolled": false
   },
   "outputs": [
    {
     "data": {
      "text/plain": [
       "{'spectrum': [132.04776143499998,\n",
       "  203.084875435,\n",
       "  316.16893943499997,\n",
       "  502.248252435,\n",
       "  573.285366435,\n",
       "  729.386477435,\n",
       "  175.118952135,\n",
       "  246.156066135,\n",
       "  432.235379135,\n",
       "  545.319443135,\n",
       "  616.356557135,\n",
       "  747.397042135],\n",
       " 'precursor_mass': 747.3970421}"
      ]
     },
     "execution_count": 3,
     "metadata": {},
     "output_type": "execute_result"
    }
   ],
   "source": [
    "gen_spectra.gen_spectrum(\"MALWAR\", 1)"
   ]
  },
  {
   "cell_type": "code",
   "execution_count": 4,
   "id": "distinguished-bankruptcy",
   "metadata": {
    "scrolled": true
   },
   "outputs": [
    {
     "data": {
      "text/plain": [
       "0.02"
      ]
     },
     "execution_count": 4,
     "metadata": {},
     "output_type": "execute_result"
    }
   ],
   "source": [
    "utils.ppm_to_da(1000,20)"
   ]
  },
  {
   "cell_type": "code",
   "execution_count": 5,
   "id": "ranking-wales",
   "metadata": {},
   "outputs": [
    {
     "name": "stdout",
     "output_type": "stream",
     "text": [
      "Wall time: 0 ns\n"
     ]
    }
   ],
   "source": [
    "%%time\n",
    "def Compare(extended_b, extended_y): #Compare is designed to score the set of b and y ions to see if these two sets make up the target set\n",
    "                      #k should be defined but I don't know the variable\n",
    "                      #defining sample parameters\n",
    "\n",
    "    G_val = 0 #Integer to hold what parts of the parent sequence which have been \"figured out\"\n",
    "\n",
    "    score = 0 #start at 0\n",
    "    for i in range(k):\n",
    "        if (extended_b[i] == parent_sequence[G_val]):\n",
    "            score = score + 1\n",
    "            G_val = G_val + 1\n",
    "\n",
    "    for j in range(k):\n",
    "        if (G_val < k and extended_y[j] == parent_sequence[G_val]):\n",
    "            score = score + 1\n",
    "            G_val = G_val + 1\n",
    "\n",
    "    print(score)"
   ]
  },
  {
   "cell_type": "markdown",
   "id": "academic-mauritius",
   "metadata": {},
   "source": [
    "# Other ideas\n",
    "\n",
    "* Determining good cut off. When do we know that a sequence is \"good enough\". If this can be determined, we can cut down a lot of the candidates and do a detailed search of the remaining few.\n",
    "* Checked each value with list of 20 amino acids"
   ]
  },
  {
   "cell_type": "markdown",
   "id": "perfect-raleigh",
   "metadata": {},
   "source": [
    "# Idea 2\n",
    "\n",
    "* The goal of this algorithm is to identify the sequence from a spectrum.\n",
    "* This is done by reading through until we find the first element. Then we run through and grab whatever pieces we can from there. Way to fill in later?\n",
    "* The algorithm below is pretty brute force and there are more elegant solutions but the most important thing is to be fairly certain what peptide is analyzed\n",
    "* Should be modified to use a database search for additional confidence\n",
    "* * Possibly performing a database search to check for missing information\n",
    "* Way to learn when the \"divide\" happens\n",
    "* * Could check database to get set of possible extensions for each amino acid but that could be very computationally heavy.\n",
    "* Algorithm could look through b ions and create an alignment based on present information then create an alignment from y ions and check if they agree. If they don't agree?"
   ]
  },
  {
   "cell_type": "markdown",
   "id": "controlling-oriental",
   "metadata": {},
   "source": [
    "# Idea 2 pseudocode\n",
    "\n",
    "* Loop through all of the extended b-ions\n",
    "* Build target sequence from b-ions\n",
    "* Build target sequence from y-ions\n",
    "* * While building sequence if we skip an ion we can use the database to fill it in (what does it mean to skip an ion?)\n",
    "* * Note that the length of the target sequence can be estimated from the precursor mass\n",
    "* Compare and use database to validate sequence"
   ]
  },
  {
   "cell_type": "code",
   "execution_count": 4,
   "id": "contained-spring",
   "metadata": {
    "scrolled": true
   },
   "outputs": [
    {
     "ename": "SyntaxError",
     "evalue": "can't assign to function call (<unknown>, line 5)",
     "output_type": "error",
     "traceback": [
      "Traceback \u001b[1;36m(most recent call last)\u001b[0m:\n",
      "  File \u001b[0;32m\"c:\\users\\maxim\\appdata\\local\\programs\\python\\python37-32\\lib\\site-packages\\IPython\\core\\interactiveshell.py\"\u001b[0m, line \u001b[0;32m3418\u001b[0m, in \u001b[0;35mrun_code\u001b[0m\n    exec(code_obj, self.user_global_ns, self.user_ns)\n",
      "  File \u001b[0;32m\"<ipython-input-4-a826c976483c>\"\u001b[0m, line \u001b[0;32m1\u001b[0m, in \u001b[0;35m<module>\u001b[0m\n    get_ipython().run_cell_magic('time', '', 'Amino_name = [\\'A\\', \\'R\\', \\'N\\', \\'D\\', \\'C\\', \\'E\\', \\'Q\\', \\'G\\', \\'H\\', \\'I\\', \\'L\\', \\'K\\', \\'M\\', \\'F\\', \\'P\\', \\'S\\', \\'T\\', \\'W\\', \\'Y\\', \\'V\\']\\nAmino_mass = [71.0788, 156.1875, 114.1038, 115.0886, 103.1388, 129.1155, 128.1307, 57.0519, 137.1411, 113.1594, 113.1594, 128.1741, 131.1926, 147.1766, 97.1167, 87.0782, 101.1051, 186.2132, 163.1760, 99.1326]\\ntolerance = .01 #Guess as to what the allowable tolerance is\\nTarget_Sequence = []\\nTarget_Sequence.len() = precursor_estimate #This is estimated from the precursor mass\\ntemp_total = 0\\ntotal = 0\\n\\ndef find_sequence(extended_b, extended_y): #Input: a list of extended b and y k-mers. Output: A hybrid sequence\\n    for i in range(k): #Checking b-ions\\n        for j in range (20): #For each listed amino acid\\n            if ((extended_b[i] + temp_total <= Amino_mass[j] + tolerance) and (extended_b[i] + temp_total >= Amino_mass[j] - tolerance)): #If the mass matches the mass of an amino acid within the tolerance.\\n                Target_Sequence.append(Amino_name)\\n                temp_total = temp_total + Amino_mass[j]\\n    \\n    temp_total = 0\\n    for i in range (k,0): #Checking for the y-ions\\n        for j in range (20):\\n            if ((extended_y[i] + temp_total <= Amino_mass[j] + tolerance) or (extended_y[i] + temp_total >= Amino_mass[j] - tolerance)): #If the mass matches the mass of an amino acid within the tolerance.\\n                if (Target_Sequence[Target_Sequence.len() - i] == Amino_name[j]):\\n                    score = score + 1\\n                temp_total = temp_total + Amino_mass[j]\\n                \\n    for k in range(Target_Sequence.len()): #checking precursor mass\\n        total = total + Target_Sequence[k]\\n    if (total > precursor_mass + tolerance):\\n        print(\"bad match\")\\n        return\\n        \\n    return Target_Sequence, score #The sequence with the highest score is the most correct\\n')\n",
      "  File \u001b[0;32m\"c:\\users\\maxim\\appdata\\local\\programs\\python\\python37-32\\lib\\site-packages\\IPython\\core\\interactiveshell.py\"\u001b[0m, line \u001b[0;32m2382\u001b[0m, in \u001b[0;35mrun_cell_magic\u001b[0m\n    result = fn(*args, **kwargs)\n",
      "  File \u001b[0;32m\"<decorator-gen-55>\"\u001b[0m, line \u001b[0;32m2\u001b[0m, in \u001b[0;35mtime\u001b[0m\n",
      "  File \u001b[0;32m\"c:\\users\\maxim\\appdata\\local\\programs\\python\\python37-32\\lib\\site-packages\\IPython\\core\\magic.py\"\u001b[0m, line \u001b[0;32m187\u001b[0m, in \u001b[0;35m<lambda>\u001b[0m\n    call = lambda f, *a, **k: f(*a, **k)\n",
      "  File \u001b[0;32m\"c:\\users\\maxim\\appdata\\local\\programs\\python\\python37-32\\lib\\site-packages\\IPython\\core\\magics\\execution.py\"\u001b[0m, line \u001b[0;32m1277\u001b[0m, in \u001b[0;35mtime\u001b[0m\n    expr_ast = self.shell.compile.ast_parse(expr)\n",
      "\u001b[1;36m  File \u001b[1;32m\"c:\\users\\maxim\\appdata\\local\\programs\\python\\python37-32\\lib\\site-packages\\IPython\\core\\compilerop.py\"\u001b[1;36m, line \u001b[1;32m101\u001b[1;36m, in \u001b[1;35mast_parse\u001b[1;36m\u001b[0m\n\u001b[1;33m    return compile(source, filename, symbol, self.flags | PyCF_ONLY_AST, 1)\u001b[0m\n",
      "\u001b[1;36m  File \u001b[1;32m\"<unknown>\"\u001b[1;36m, line \u001b[1;32m5\u001b[0m\n\u001b[1;31mSyntaxError\u001b[0m\u001b[1;31m:\u001b[0m can't assign to function call\n"
     ]
    }
   ],
   "source": [
    "%%time\n",
    "Amino_name = ['A', 'R', 'N', 'D', 'C', 'E', 'Q', 'G', 'H', 'I', 'L', 'K', 'M', 'F', 'P', 'S', 'T', 'W', 'Y', 'V']\n",
    "Amino_mass = [71.0788, 156.1875, 114.1038, 115.0886, 103.1388, 129.1155, 128.1307, 57.0519, 137.1411, 113.1594, 113.1594, 128.1741, 131.1926, 147.1766, 97.1167, 87.0782, 101.1051, 186.2132, 163.1760, 99.1326]\n",
    "tolerance = .01 #Guess as to what the allowable tolerance is\n",
    "Target_Sequence = []\n",
    "Target_Sequence.len() = precursor_estimate #This is estimated from the precursor mass\n",
    "temp_total = 0\n",
    "total = 0\n",
    "\n",
    "def find_sequence(extended_b, extended_y): #Input: a list of extended b and y k-mers. Output: A hybrid sequence\n",
    "    for i in range(k): #Checking b-ions\n",
    "        for j in range (20): #For each listed amino acid\n",
    "            if ((extended_b[i] + temp_total <= Amino_mass[j] + tolerance) and (extended_b[i] + temp_total >= Amino_mass[j] - tolerance)): #If the mass matches the mass of an amino acid within the tolerance.\n",
    "                Target_Sequence.append(Amino_name)\n",
    "                temp_total = temp_total + Amino_mass[j]\n",
    "    \n",
    "    temp_total = 0\n",
    "    for i in range (k,0): #Checking for the y-ions\n",
    "        for j in range (20):\n",
    "            if ((extended_y[i] + temp_total <= Amino_mass[j] + tolerance) or (extended_y[i] + temp_total >= Amino_mass[j] - tolerance)): #If the mass matches the mass of an amino acid within the tolerance.\n",
    "                if (Target_Sequence[Target_Sequence.len() - i] == Amino_name[j]):\n",
    "                    score = score + 1\n",
    "                temp_total = temp_total + Amino_mass[j]\n",
    "                \n",
    "    for k in range(Target_Sequence.len()): #checking precursor mass\n",
    "        total = total + Target_Sequence[k]\n",
    "    if (total > precursor_mass + tolerance):\n",
    "        print(\"bad match\")\n",
    "        return\n",
    "        \n",
    "    return Target_Sequence, score #The sequence with the highest score is the most correct"
   ]
  },
  {
   "cell_type": "markdown",
   "id": "wound-linux",
   "metadata": {},
   "source": [
    "# Idea 3 \n",
    "\n",
    "* Loop through b ions until match is found. Insert into target sequence\n",
    "* Loop through y ions until match is found. Insert into end of target sequence\n",
    "* Check if b ions match this sequence and if y ions match this sequence.\n",
    "* If not, use database to check expected extensions according to precursor mass since at this point we will be able to know where the divide is"
   ]
  },
  {
   "cell_type": "markdown",
   "id": "driven-pension",
   "metadata": {},
   "source": [
    "# Current algorithm idea\n",
    "\n",
    "* extend all the b and y k-mers"
   ]
  },
  {
   "cell_type": "markdown",
   "id": "together-letter",
   "metadata": {},
   "source": [
    "\n",
    "\n",
    "# Current ideas\n",
    "\n",
    "* Optimizing current algorithm which generates all possible extensions of base b,y k-mers and then cuts off from the ends until combined mass matches precursor\n",
    "* * Dynamic approach could shorten time\n",
    "\n",
    "* Creating a b tree and y tree and seeing what we can create from that while staying under precursor mass\n",
    "* * Use of trees could make dynamic program appealing"
   ]
  },
  {
   "cell_type": "markdown",
   "id": "unlimited-reynolds",
   "metadata": {},
   "source": [
    "# How to do dynamic approach to first idea?\n",
    "\n",
    "* Dynamic improvements could potentially happen in two places\n",
    "* * First is during extension of base b and y k-mers\n",
    "* * Second is during scoring\n",
    "\n",
    "* First idea seems more valuable because that is where the most time is being taken up"
   ]
  },
  {
   "cell_type": "markdown",
   "id": "above-student",
   "metadata": {},
   "source": [
    "# base k-mer extension principle\n",
    "\n",
    "* Starting with a 3-mer (in both the b and y ions), generate all possible extentions so that the theoretical mass > precursor mass"
   ]
  },
  {
   "cell_type": "markdown",
   "id": "presidential-library",
   "metadata": {},
   "source": [
    "# Dynamic approach to base k-mer extensions\n",
    "\n",
    "* Original problem: let A denote an array defined below. \n",
    "* $A := \\{x \\in Database \\ starting\\ with \\ 3-mer: mass(x) > mass_{precursor} + tolerance\\}$\n",
    "\n",
    "* subproblems: Find the maximum of A[i,...,n] and A[0,...,i]\n",
    "* The set of all subproblems will find the solution to the original problem because finding the maximum of all subsets of A is also the maximum of A.\n",
    "\n",
    "* Possibly burrows-wheeler transform at start to save space\n",
    "\n",
    "* Generate trie where the nodes represent extensions and the edges represent scores\n",
    "\n",
    "* Kind of like Knapsack problem where the size of the bag are the missing extensions and the score is the element to maximize. \n",
    "\n",
    "* Go both ways and compare sequences?\n",
    "\n",
    "# Example\n",
    "\n",
    "* Target sequence MALQTWAR\n",
    "* x_given MAL\n",
    "* y_given WAR\n",
    "* Start with  \n",
    "* $$best_{ext} = max(A[0,1,2,...,])$$\n",
    "* Generate all possible extensions from MAL - RRT\n",
    "* Generate all possible extensions from RRT - MAL"
   ]
  },
  {
   "cell_type": "markdown",
   "id": "returning-newman",
   "metadata": {},
   "source": [
    "# Scoring algorithm for an extension\n",
    "\n",
    "* if there is a match of masses between observed spectra and theoretical spectra (including tolerance), then we add to the score"
   ]
  },
  {
   "cell_type": "markdown",
   "id": "bright-alexandria",
   "metadata": {},
   "source": [
    "# Complexity to keep track of \n",
    "\n",
    "* Comparing observed and theoretical spectra $\\Theta(n)$\n",
    "* Developing theoretical spectra $\\Theta(n)$\n",
    "* Building table to backtrack $\\Theta(n^2)$"
   ]
  },
  {
   "cell_type": "markdown",
   "id": "varied-trance",
   "metadata": {},
   "source": [
    "# Other approach to optimize\n",
    "\n",
    "* Extending the base k-mers out far too much\n",
    "* The problem is that the dataset size is too large"
   ]
  },
  {
   "cell_type": "markdown",
   "id": "certain-cattle",
   "metadata": {},
   "source": [
    "# To ask Zach in meetings\n",
    "\n",
    "* Is math imported twice in utils.py?\n",
    "* When running gen_spectrum above the precursor mass is not what it should be. This is due to the calc masses function returning the doubly charged precursor as the precursor value. Should precursor just be max mass. If gen_spectrum is run with only singly charged parameter there are two different precursor values. Should this be possible give that this is theoretical spectrum\n",
    "* Why is split_hybrid labelled as __split.hybrid\n",
    "* Setup in gen_spectra not recognizing sequence?\n",
    "* Run through the failures if possible"
   ]
  },
  {
   "cell_type": "code",
   "execution_count": null,
   "id": "suffering-savannah",
   "metadata": {},
   "outputs": [],
   "source": []
  }
 ],
 "metadata": {
  "kernelspec": {
   "display_name": "Python 3",
   "language": "python",
   "name": "python3"
  },
  "language_info": {
   "codemirror_mode": {
    "name": "ipython",
    "version": 3
   },
   "file_extension": ".py",
   "mimetype": "text/x-python",
   "name": "python",
   "nbconvert_exporter": "python",
   "pygments_lexer": "ipython3",
   "version": "3.8.5"
  }
 },
 "nbformat": 4,
 "nbformat_minor": 5
}
