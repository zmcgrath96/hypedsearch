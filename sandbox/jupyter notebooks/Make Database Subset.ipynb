{
 "cells": [
  {
   "cell_type": "code",
   "execution_count": 4,
   "id": "cardiovascular-eugene",
   "metadata": {},
   "outputs": [],
   "source": [
    "from pyteomics import fasta\n",
    "from collections import defaultdict"
   ]
  },
  {
   "cell_type": "code",
   "execution_count": 5,
   "id": "assisted-uncertainty",
   "metadata": {},
   "outputs": [],
   "source": [
    "path = '/mnt/c/Users/Maxim/Documents/Layer_Lab/Database/raw_inputs/NOD2_E3/filtered_mouse_database.fasta'"
   ]
  },
  {
   "cell_type": "code",
   "execution_count": 6,
   "id": "interstate-exemption",
   "metadata": {},
   "outputs": [],
   "source": [
    "prots = defaultdict(list)\n",
    "for entry in fasta.read(path):\n",
    "        p_name = entry.description.split()[0]\n",
    "        prots[p_name].append(entry)"
   ]
  },
  {
   "cell_type": "code",
   "execution_count": 7,
   "id": "lovely-skill",
   "metadata": {},
   "outputs": [
    {
     "data": {
      "text/plain": [
       "[Protein(description='sp|Q91XC8|DAP1_MOUSE Death-associated protein 1 OS=Mus musculus OX=10090 GN=Dap PE=1 SV=3', sequence='MSSPPEGKLETKAGHPPAVKAGGMRIVQKHPHTGDGKEERDKDDQEWESTSPPKPTVFISGVIARGDKDFPPAAAQVAHQKPHASMDKHVSPRTQHIQQPRK')]"
      ]
     },
     "execution_count": 7,
     "metadata": {},
     "output_type": "execute_result"
    }
   ],
   "source": [
    "prots[list(prots.keys())[0]]"
   ]
  },
  {
   "cell_type": "code",
   "execution_count": null,
   "id": "convenient-barcelona",
   "metadata": {},
   "outputs": [],
   "source": []
  }
 ],
 "metadata": {
  "kernelspec": {
   "display_name": "Python 3",
   "language": "python",
   "name": "python3"
  },
  "language_info": {
   "codemirror_mode": {
    "name": "ipython",
    "version": 3
   },
   "file_extension": ".py",
   "mimetype": "text/x-python",
   "name": "python",
   "nbconvert_exporter": "python",
   "pygments_lexer": "ipython3",
   "version": "3.8.5"
  }
 },
 "nbformat": 4,
 "nbformat_minor": 5
}
